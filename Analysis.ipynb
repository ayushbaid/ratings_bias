{
 "cells": [
  {
   "cell_type": "code",
   "execution_count": 3,
   "metadata": {},
   "outputs": [],
   "source": [
    "import pandas as pd\n",
    "import matplotlib.pyplot as plt\n",
    "import matplotlib.cm as cm\n",
    "import matplotlib\n",
    "import numpy as np\n",
    "import collections"
   ]
  },
  {
   "cell_type": "code",
   "execution_count": 19,
   "metadata": {},
   "outputs": [],
   "source": [
    "raw_input = pd.read_csv('data/amazon/ratings_Books.csv', keep_default_na=True, \n",
    "                        names=['User', 'Product', 'Ratings', 'Timestamp']\n",
    "                       ).drop(columns=['Timestamp'])"
   ]
  },
  {
   "cell_type": "code",
   "execution_count": 20,
   "metadata": {},
   "outputs": [],
   "source": [
    "def filter_and_generate_distribution(raw_input_df, review_count_threshold = 100):\n",
    "    print('Size before filtering = {}'.format(raw_input_df.size))\n",
    "    valid_input = raw_input.groupby(['Product']).filter(lambda x: len(x)>review_count_threshold)\n",
    "    print('Size after filtering = {}'.format(valid_input.size))\n",
    "    \n",
    "    review_distribution = valid_input.groupby(['Ratings']).size().reset_index(name='counts')\n",
    "    total_review_count = review_distribution['counts'].sum()\n",
    "    review_distribution['counts'] = review_distribution['counts'].div(total_review_count)\n",
    "    \n",
    "    return review_distribution\n",
    "    "
   ]
  },
  {
   "cell_type": "code",
   "execution_count": 21,
   "metadata": {},
   "outputs": [],
   "source": [
    "# filters the users by the number of reviews\n",
    "def gen_distribution_filtered_by_user(raw_input_df, min_review_count=1, max_review_count=10):\n",
    "    print('Size before filtering = {}'.format(raw_input_df.size))\n",
    "    valid_input = raw_input.drop(columns=['Product']).groupby(['User']).filter(\n",
    "        lambda x: len(x)>min_review_count and len(x)<max_review_count\n",
    "    )\n",
    "    print('Size after filtering = {}'.format(valid_input.size))\n",
    "    \n",
    "    review_distribution = valid_input.groupby(['Ratings']).size().reset_index(name='counts')\n",
    "    total_review_count = review_distribution['counts'].sum()\n",
    "    review_distribution['counts'] = review_distribution['counts'].div(total_review_count)\n",
    "    \n",
    "    return review_distribution\n"
   ]
  },
  {
   "cell_type": "code",
   "execution_count": 67,
   "metadata": {},
   "outputs": [
    {
     "name": "stdout",
     "output_type": "stream",
     "text": [
      "Size before filtering = 2649506\n",
      "Size after filtering = 2426930\n",
      "Size before filtering = 2649506\n",
      "Size after filtering = 1514738\n"
     ]
    }
   ],
   "source": [
    "review_dist_10   = filter_and_generate_distribution(raw_input, review_count_threshold=10)\n",
    "review_dist_100  = filter_and_generate_distribution(raw_input, review_count_threshold=100)"
   ]
  },
  {
   "cell_type": "code",
   "execution_count": 8,
   "metadata": {},
   "outputs": [
    {
     "name": "stdout",
     "output_type": "stream",
     "text": [
      "Size before filtering = 3974259\n",
      "Size after filtering = 1060784\n",
      "Size before filtering = 3974259\n",
      "Size after filtering = 1349158\n",
      "Size before filtering = 3974259\n",
      "Size after filtering = 1375772\n",
      "Size before filtering = 3974259\n",
      "Size after filtering = 1375772\n"
     ]
    }
   ],
   "source": [
    "# Plot ratings distribution filtered by user\n",
    "review_dist_1_10 = gen_distribution_filtered_by_user(raw_input, min_review_count=1, max_review_count=10)\n",
    "review_dist_1_100 = gen_distribution_filtered_by_user(raw_input, min_review_count=1, max_review_count=100)\n",
    "review_dist_1_1000 = gen_distribution_filtered_by_user(raw_input, min_review_count=1, max_review_count=1000)\n",
    "review_dist_1_1mm = gen_distribution_filtered_by_user(raw_input, min_review_count=1, max_review_count=1e6)"
   ]
  },
  {
   "cell_type": "code",
   "execution_count": 22,
   "metadata": {},
   "outputs": [
    {
     "name": "stdout",
     "output_type": "stream",
     "text": [
      "Size before filtering = 67521465\n",
      "Size after filtering = 11051620\n"
     ]
    },
    {
     "data": {
      "text/html": [
       "<div>\n",
       "<style scoped>\n",
       "    .dataframe tbody tr th:only-of-type {\n",
       "        vertical-align: middle;\n",
       "    }\n",
       "\n",
       "    .dataframe tbody tr th {\n",
       "        vertical-align: top;\n",
       "    }\n",
       "\n",
       "    .dataframe thead th {\n",
       "        text-align: right;\n",
       "    }\n",
       "</style>\n",
       "<table border=\"1\" class=\"dataframe\">\n",
       "  <thead>\n",
       "    <tr style=\"text-align: right;\">\n",
       "      <th></th>\n",
       "      <th>Ratings</th>\n",
       "      <th>counts</th>\n",
       "    </tr>\n",
       "  </thead>\n",
       "  <tbody>\n",
       "    <tr>\n",
       "      <th>0</th>\n",
       "      <td>1.0</td>\n",
       "      <td>0.041240</td>\n",
       "    </tr>\n",
       "    <tr>\n",
       "      <th>1</th>\n",
       "      <td>2.0</td>\n",
       "      <td>0.048616</td>\n",
       "    </tr>\n",
       "    <tr>\n",
       "      <th>2</th>\n",
       "      <td>3.0</td>\n",
       "      <td>0.103902</td>\n",
       "    </tr>\n",
       "    <tr>\n",
       "      <th>3</th>\n",
       "      <td>4.0</td>\n",
       "      <td>0.230963</td>\n",
       "    </tr>\n",
       "    <tr>\n",
       "      <th>4</th>\n",
       "      <td>5.0</td>\n",
       "      <td>0.575278</td>\n",
       "    </tr>\n",
       "  </tbody>\n",
       "</table>\n",
       "</div>"
      ],
      "text/plain": [
       "   Ratings    counts\n",
       "0      1.0  0.041240\n",
       "1      2.0  0.048616\n",
       "2      3.0  0.103902\n",
       "3      4.0  0.230963\n",
       "4      5.0  0.575278"
      ]
     },
     "execution_count": 22,
     "metadata": {},
     "output_type": "execute_result"
    }
   ],
   "source": [
    "review_dist_10_100 = gen_distribution_filtered_by_user(raw_input, min_review_count=10, max_review_count=100)\n",
    "review_dist_10_100.head()"
   ]
  },
  {
   "cell_type": "code",
   "execution_count": 24,
   "metadata": {},
   "outputs": [
    {
     "data": {
      "image/png": "[encoded data removed]",
      "text/plain": [
       "<Figure size 720x504 with 1 Axes>"
      ]
     },
     "metadata": {
      "needs_background": "light"
     },
     "output_type": "display_data"
    }
   ],
   "source": [
    "ax1 = review_dist_10_100.set_index(['Ratings']).plot(kind='bar', title =\"Ratings distribution (range=10-100)\",figsize=(10,7),legend=False, fontsize=10)\n",
    "ax1.set_xlabel(\"Ratings\",fontsize=16)\n",
    "ax1.set_ylabel(\"Normalized Counts\",fontsize=16)\n",
    "ax1.set_ylim([0,0.7])\n",
    "plt.savefig('results/amazon/userFilter/reviewDist_Books_10_100.png')"
   ]
  },
  {
   "cell_type": "code",
   "execution_count": 68,
   "metadata": {},
   "outputs": [
    {
     "data": {
      "image/png": "[encoded data removed]",
      "text/plain": [
       "<Figure size 720x504 with 1 Axes>"
      ]
     },
     "metadata": {
      "needs_background": "light"
     },
     "output_type": "display_data"
    },
    {
     "data": {
      "image/png": "[encoded data removed]",
      "text/plain": [
       "<Figure size 720x504 with 1 Axes>"
      ]
     },
     "metadata": {
      "needs_background": "light"
     },
     "output_type": "display_data"
    }
   ],
   "source": [
    "# Plot ratings distributuion filtered by product\n",
    "ax1 = review_dist_10.set_index(['Ratings']).plot(kind='bar', title =\"Ratings distribution (thres=10)\",figsize=(10,7),legend=False, fontsize=10)\n",
    "ax1.set_xlabel(\"Ratings\",fontsize=16)\n",
    "ax1.set_ylabel(\"Normalized Counts\",fontsize=16)\n",
    "ax1.set_ylim([0,0.7])\n",
    "plt.savefig('results/amazon/reviewDist_VideoGames_10.png')\n",
    "\n",
    "\n",
    "ax2 = review_dist_100.set_index(['Ratings']).plot(kind='bar', title =\"Ratings distribution (thres=100)\",figsize=(10,7),legend=False, fontsize=10)\n",
    "ax2.set_xlabel(\"Ratings\",fontsize=16)\n",
    "ax2.set_ylabel(\"Normalized Counts\",fontsize=16)\n",
    "ax2.set_ylim([0,0.7])\n",
    "plt.savefig('results/amazon/reviewDist_VideoGames_100.png')"
   ]
  },
  {
   "cell_type": "code",
   "execution_count": 39,
   "metadata": {},
   "outputs": [],
   "source": [
    "review_count_threshold = 10\n",
    "valid_input = raw_input.groupby(['Product']).filter(lambda x: len(x)>review_count_threshold)"
   ]
  },
  {
   "cell_type": "code",
   "execution_count": 20,
   "metadata": {},
   "outputs": [],
   "source": [
    "grouped_data = valid_input.groupby(['Product','Ratings']).size().reset_index(name='counts')"
   ]
  },
  {
   "cell_type": "code",
   "execution_count": 21,
   "metadata": {},
   "outputs": [
    {
     "data": {
      "text/html": [
       "<div>\n",
       "<style scoped>\n",
       "    .dataframe tbody tr th:only-of-type {\n",
       "        vertical-align: middle;\n",
       "    }\n",
       "\n",
       "    .dataframe tbody tr th {\n",
       "        vertical-align: top;\n",
       "    }\n",
       "\n",
       "    .dataframe thead th {\n",
       "        text-align: right;\n",
       "    }\n",
       "</style>\n",
       "<table border=\"1\" class=\"dataframe\">\n",
       "  <thead>\n",
       "    <tr style=\"text-align: right;\">\n",
       "      <th></th>\n",
       "      <th>Product</th>\n",
       "      <th>Ratings</th>\n",
       "      <th>counts</th>\n",
       "    </tr>\n",
       "  </thead>\n",
       "  <tbody>\n",
       "    <tr>\n",
       "      <th>0</th>\n",
       "      <td>0972683275</td>\n",
       "      <td>1.0</td>\n",
       "      <td>32</td>\n",
       "    </tr>\n",
       "    <tr>\n",
       "      <th>1</th>\n",
       "      <td>0972683275</td>\n",
       "      <td>2.0</td>\n",
       "      <td>28</td>\n",
       "    </tr>\n",
       "    <tr>\n",
       "      <th>2</th>\n",
       "      <td>0972683275</td>\n",
       "      <td>3.0</td>\n",
       "      <td>56</td>\n",
       "    </tr>\n",
       "    <tr>\n",
       "      <th>3</th>\n",
       "      <td>0972683275</td>\n",
       "      <td>4.0</td>\n",
       "      <td>232</td>\n",
       "    </tr>\n",
       "    <tr>\n",
       "      <th>4</th>\n",
       "      <td>0972683275</td>\n",
       "      <td>5.0</td>\n",
       "      <td>703</td>\n",
       "    </tr>\n",
       "  </tbody>\n",
       "</table>\n",
       "</div>"
      ],
      "text/plain": [
       "      Product  Ratings  counts\n",
       "0  0972683275      1.0      32\n",
       "1  0972683275      2.0      28\n",
       "2  0972683275      3.0      56\n",
       "3  0972683275      4.0     232\n",
       "4  0972683275      5.0     703"
      ]
     },
     "execution_count": 21,
     "metadata": {},
     "output_type": "execute_result"
    }
   ],
   "source": [
    "grouped_data.head()"
   ]
  },
  {
   "cell_type": "code",
   "execution_count": 22,
   "metadata": {},
   "outputs": [
    {
     "data": {
      "text/plain": [
       "195255"
      ]
     },
     "execution_count": 22,
     "metadata": {},
     "output_type": "execute_result"
    }
   ],
   "source": [
    "grouped_data.size"
   ]
  },
  {
   "cell_type": "code",
   "execution_count": 23,
   "metadata": {},
   "outputs": [],
   "source": [
    "# calculate the noramized ratings for the producs\n",
    "product_review_counts = grouped_data.groupby(['Product'])['counts'].transform('sum')\n",
    "normalized_counts = grouped_data\n",
    "normalized_counts['counts'] = normalized_counts['counts'].div(product_review_counts)"
   ]
  },
  {
   "cell_type": "code",
   "execution_count": 24,
   "metadata": {},
   "outputs": [
    {
     "data": {
      "text/html": [
       "<div>\n",
       "<style scoped>\n",
       "    .dataframe tbody tr th:only-of-type {\n",
       "        vertical-align: middle;\n",
       "    }\n",
       "\n",
       "    .dataframe tbody tr th {\n",
       "        vertical-align: top;\n",
       "    }\n",
       "\n",
       "    .dataframe thead th {\n",
       "        text-align: right;\n",
       "    }\n",
       "</style>\n",
       "<table border=\"1\" class=\"dataframe\">\n",
       "  <thead>\n",
       "    <tr style=\"text-align: right;\">\n",
       "      <th></th>\n",
       "      <th>Product</th>\n",
       "      <th>Ratings</th>\n",
       "      <th>counts</th>\n",
       "    </tr>\n",
       "  </thead>\n",
       "  <tbody>\n",
       "    <tr>\n",
       "      <th>0</th>\n",
       "      <td>0972683275</td>\n",
       "      <td>1.0</td>\n",
       "      <td>0.030447</td>\n",
       "    </tr>\n",
       "    <tr>\n",
       "      <th>1</th>\n",
       "      <td>0972683275</td>\n",
       "      <td>2.0</td>\n",
       "      <td>0.026641</td>\n",
       "    </tr>\n",
       "    <tr>\n",
       "      <th>2</th>\n",
       "      <td>0972683275</td>\n",
       "      <td>3.0</td>\n",
       "      <td>0.053283</td>\n",
       "    </tr>\n",
       "    <tr>\n",
       "      <th>3</th>\n",
       "      <td>0972683275</td>\n",
       "      <td>4.0</td>\n",
       "      <td>0.220742</td>\n",
       "    </tr>\n",
       "    <tr>\n",
       "      <th>4</th>\n",
       "      <td>0972683275</td>\n",
       "      <td>5.0</td>\n",
       "      <td>0.668887</td>\n",
       "    </tr>\n",
       "  </tbody>\n",
       "</table>\n",
       "</div>"
      ],
      "text/plain": [
       "      Product  Ratings    counts\n",
       "0  0972683275      1.0  0.030447\n",
       "1  0972683275      2.0  0.026641\n",
       "2  0972683275      3.0  0.053283\n",
       "3  0972683275      4.0  0.220742\n",
       "4  0972683275      5.0  0.668887"
      ]
     },
     "execution_count": 24,
     "metadata": {},
     "output_type": "execute_result"
    }
   ],
   "source": [
    "normalized_counts.head()"
   ]
  },
  {
   "cell_type": "code",
   "execution_count": 42,
   "metadata": {},
   "outputs": [],
   "source": [
    "#review_distribution = normalized_counts.groupby(['Ratings'])['counts'].sum()\n",
    "review_distribution = valid_input.groupby(['Ratings']).size().reset_index(name='counts')\n",
    "total_review_count = review_distribution['counts'].sum()\n",
    "review_distribution['counts'] = review_distribution['counts'].div(total_review_count)"
   ]
  },
  {
   "cell_type": "code",
   "execution_count": 43,
   "metadata": {},
   "outputs": [
    {
     "data": {
      "text/html": [
       "<div>\n",
       "<style scoped>\n",
       "    .dataframe tbody tr th:only-of-type {\n",
       "        vertical-align: middle;\n",
       "    }\n",
       "\n",
       "    .dataframe tbody tr th {\n",
       "        vertical-align: top;\n",
       "    }\n",
       "\n",
       "    .dataframe thead th {\n",
       "        text-align: right;\n",
       "    }\n",
       "</style>\n",
       "<table border=\"1\" class=\"dataframe\">\n",
       "  <thead>\n",
       "    <tr style=\"text-align: right;\">\n",
       "      <th></th>\n",
       "      <th>Ratings</th>\n",
       "      <th>counts</th>\n",
       "    </tr>\n",
       "  </thead>\n",
       "  <tbody>\n",
       "    <tr>\n",
       "      <th>0</th>\n",
       "      <td>1.0</td>\n",
       "      <td>0.111334</td>\n",
       "    </tr>\n",
       "    <tr>\n",
       "      <th>1</th>\n",
       "      <td>2.0</td>\n",
       "      <td>0.057353</td>\n",
       "    </tr>\n",
       "    <tr>\n",
       "      <th>2</th>\n",
       "      <td>3.0</td>\n",
       "      <td>0.079478</td>\n",
       "    </tr>\n",
       "    <tr>\n",
       "      <th>3</th>\n",
       "      <td>4.0</td>\n",
       "      <td>0.190561</td>\n",
       "    </tr>\n",
       "    <tr>\n",
       "      <th>4</th>\n",
       "      <td>5.0</td>\n",
       "      <td>0.561273</td>\n",
       "    </tr>\n",
       "  </tbody>\n",
       "</table>\n",
       "</div>"
      ],
      "text/plain": [
       "   Ratings    counts\n",
       "0      1.0  0.111334\n",
       "1      2.0  0.057353\n",
       "2      3.0  0.079478\n",
       "3      4.0  0.190561\n",
       "4      5.0  0.561273"
      ]
     },
     "execution_count": 43,
     "metadata": {},
     "output_type": "execute_result"
    }
   ],
   "source": [
    "review_distribution.head()"
   ]
  },
  {
   "cell_type": "code",
   "execution_count": 44,
   "metadata": {},
   "outputs": [
    {
     "data": {
      "text/plain": [
       "Text(0, 0.5, 'Normalized Counts')"
      ]
     },
     "execution_count": 44,
     "metadata": {},
     "output_type": "execute_result"
    },
    {
     "data": {
      "image/png": "[encoded data removed]",
      "text/plain": [
       "<Figure size 1080x720 with 1 Axes>"
      ]
     },
     "metadata": {
      "needs_background": "light"
     },
     "output_type": "display_data"
    }
   ],
   "source": [
    "ax = review_distribution.set_index(['Ratings']).plot(kind='bar', title =\"Normalized Ratings Count\",figsize=(15,10),legend=False, fontsize=10)\n",
    "ax.set_xlabel(\"Ratings\",fontsize=16)\n",
    "ax.set_ylabel(\"Normalized Counts\",fontsize=16)"
   ]
  },
  {
   "cell_type": "code",
   "execution_count": null,
   "metadata": {},
   "outputs": [],
   "source": []
  },
  {
   "cell_type": "code",
   "execution_count": null,
   "metadata": {},
   "outputs": [],
   "source": []
  }
 ],
 "metadata": {
  "kernelspec": {
   "display_name": "Python 3",
   "language": "python",
   "name": "python3"
  },
  "language_info": {
   "codemirror_mode": {
    "name": "ipython",
    "version": 3
   },
   "file_extension": ".py",
   "mimetype": "text/x-python",
   "name": "python",
   "nbconvert_exporter": "python",
   "pygments_lexer": "ipython3",
   "version": "3.6.8"
  }
 },
 "nbformat": 4,
 "nbformat_minor": 2
}
